{
 "cells": [
  {
   "cell_type": "code",
   "execution_count": 1,
   "metadata": {},
   "outputs": [],
   "source": [
    "import logging\n",
    "import os\n",
    "from pathlib import Path\n",
    "import shutil\n",
    "\n",
    "from cm1.run import PBS, CM1Run\n",
    "from cm1.utils import TMPDIR\n",
    "import f90nml"
   ]
  },
  {
   "cell_type": "code",
   "execution_count": 2,
   "metadata": {},
   "outputs": [
    {
     "name": "stdout",
     "output_type": "stream",
     "text": [
      "7666309.desched1\n"
     ]
    }
   ],
   "source": [
    "# Path to the CM1 repository\n",
    "CM1 = Path(os.getenv(\"SCRATCH\")) / \"cm1\"  # Assumes $SCRATCH is already set.\n",
    "\n",
    "testcase = \"les_ib_windtunnel\"\n",
    "run_dir = CM1 / f\"run_{testcase}\"\n",
    "os.makedirs(run_dir, exist_ok=True)\n",
    "\n",
    "# Copy all files from testcase configuration directory to run directory\n",
    "shutil.copytree(CM1 / \"run/config_files\" / testcase, run_dir, dirs_exist_ok=True)\n",
    "\n",
    "# Initialize the controller with the path to the namelist file\n",
    "namelist_path = run_dir / \"namelist.input\"\n",
    "namelist = f90nml.read(namelist_path)\n",
    "\n",
    "# Modify values in the namelist\n",
    "namelist[\"param9\"][\"output_format\"] = 2\n",
    "namelist[\"param9\"][\"output_filetype\"] = 1\n",
    "namelist[\"param2\"][\"isnd\"] = 7\n",
    "\n",
    "# Write updated namelist in run directory.\n",
    "namelist.write(namelist_path, force=True)\n",
    "logging.info(f\"Updated namelist saved to {namelist_path}\")\n",
    "\n",
    "# Link LW and SW radiation data and model executable to run directory\n",
    "for file in [\"RRTMG_LW_DATA\", \"RRTMG_SW_DATA\", \"cm1.exe\"]:\n",
    "    symlink = run_dir / file\n",
    "    if os.path.exists(symlink):\n",
    "        continue\n",
    "    symlink.symlink_to(CM1 / f\"run/{file}\")\n",
    "\n",
    "pbs_config = PBS(\n",
    "    name=testcase,\n",
    "    account=\"NMMM0021\",\n",
    "    walltime=\"02:00:00\",\n",
    "    nodes=2,\n",
    "    run_dir=run_dir,\n",
    ")\n",
    "cm1_run = CM1Run(namelist=namelist, pbs_config=pbs_config)\n",
    "cm1_run.submit_job()"
   ]
  },
  {
   "cell_type": "code",
   "execution_count": 12,
   "metadata": {},
   "outputs": [
    {
     "data": {
      "text/plain": [
       "Namelist([('nx', 1144),\n",
       "          ('ny', 1144),\n",
       "          ('nz', 106),\n",
       "          ('ppnode', 128),\n",
       "          ('timeformat', 3),\n",
       "          ('timestats', 1),\n",
       "          ('terrain_flag', False),\n",
       "          ('procfiles', False)])"
      ]
     },
     "execution_count": 12,
     "metadata": {},
     "output_type": "execute_result"
    }
   ],
   "source": [
    "namelist[\"param0\"]"
   ]
  },
  {
   "cell_type": "code",
   "execution_count": 13,
   "metadata": {},
   "outputs": [
    {
     "data": {
      "text/plain": [
       "<cm1.run.utils.CM1Run at 0x7f20923c76b0>"
      ]
     },
     "execution_count": 13,
     "metadata": {},
     "output_type": "execute_result"
    }
   ],
   "source": [
    "cm1_run"
   ]
  },
  {
   "cell_type": "code",
   "execution_count": null,
   "metadata": {},
   "outputs": [],
   "source": []
  }
 ],
 "metadata": {
  "kernelspec": {
   "display_name": "cm1",
   "language": "python",
   "name": "python3"
  },
  "language_info": {
   "codemirror_mode": {
    "name": "ipython",
    "version": 3
   },
   "file_extension": ".py",
   "mimetype": "text/x-python",
   "name": "python",
   "nbconvert_exporter": "python",
   "pygments_lexer": "ipython3",
   "version": "3.12.7"
  }
 },
 "nbformat": 4,
 "nbformat_minor": 2
}
