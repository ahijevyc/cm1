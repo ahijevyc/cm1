{
 "cells": [
  {
   "cell_type": "code",
   "execution_count": 1,
   "metadata": {},
   "outputs": [],
   "source": [
    "import cm1.run.util\n",
    "import os\n",
    "from cm1.util import TMPDIR\n",
    "from pathlib import Path\n",
    "import logging"
   ]
  },
  {
   "cell_type": "code",
   "execution_count": 3,
   "metadata": {},
   "outputs": [
    {
     "name": "stdout",
     "output_type": "stream",
     "text": [
      "Initial value: 1\n",
      "Initial value: 2\n"
     ]
    },
    {
     "ename": "OSError",
     "evalue": "File /glade/derecho/scratch/ahijevyc/tmp/updated_input.nml already exists.",
     "output_type": "error",
     "traceback": [
      "\u001b[0;31m---------------------------------------------------------------------------\u001b[0m",
      "\u001b[0;31mOSError\u001b[0m                                   Traceback (most recent call last)",
      "Cell \u001b[0;32mIn[3], line 19\u001b[0m\n\u001b[1;32m     17\u001b[0m \u001b[38;5;66;03m# Save the updated namelist\u001b[39;00m\n\u001b[1;32m     18\u001b[0m ofile \u001b[38;5;241m=\u001b[39m TMPDIR \u001b[38;5;241m/\u001b[39m \u001b[38;5;124m\"\u001b[39m\u001b[38;5;124mupdated_input.nml\u001b[39m\u001b[38;5;124m\"\u001b[39m\n\u001b[0;32m---> 19\u001b[0m \u001b[43mcontroller\u001b[49m\u001b[38;5;241;43m.\u001b[39;49m\u001b[43msave\u001b[49m\u001b[43m(\u001b[49m\u001b[43mofile\u001b[49m\u001b[43m,\u001b[49m\u001b[43m \u001b[49m\u001b[43mforce\u001b[49m\u001b[38;5;241;43m=\u001b[39;49m\u001b[38;5;28;43;01mFalse\u001b[39;49;00m\u001b[43m)\u001b[49m\n\u001b[1;32m     20\u001b[0m logging\u001b[38;5;241m.\u001b[39minfo(\u001b[38;5;124mf\u001b[39m\u001b[38;5;124m\"\u001b[39m\u001b[38;5;124mUpdated namelist saved to \u001b[39m\u001b[38;5;132;01m{\u001b[39;00mofile\u001b[38;5;132;01m}\u001b[39;00m\u001b[38;5;124m\"\u001b[39m)\n",
      "File \u001b[0;32m/glade/derecho/scratch/ahijevyc/cm1/cm1/run/util.py:83\u001b[0m, in \u001b[0;36mFortranNamelistController.save\u001b[0;34m(self, output_file, force)\u001b[0m\n\u001b[1;32m     79\u001b[0m \u001b[38;5;28;01mdef\u001b[39;00m \u001b[38;5;21msave\u001b[39m(\u001b[38;5;28mself\u001b[39m, output_file, force\u001b[38;5;241m=\u001b[39m\u001b[38;5;28;01mFalse\u001b[39;00m):\n\u001b[1;32m     80\u001b[0m \u001b[38;5;250m    \u001b[39m\u001b[38;5;124;03m\"\"\"\u001b[39;00m\n\u001b[1;32m     81\u001b[0m \u001b[38;5;124;03m    Save the updated namelist to a file. By default, this will not overwrite an existing file.\u001b[39;00m\n\u001b[1;32m     82\u001b[0m \u001b[38;5;124;03m    \"\"\"\u001b[39;00m\n\u001b[0;32m---> 83\u001b[0m     \u001b[43mf90nml\u001b[49m\u001b[38;5;241;43m.\u001b[39;49m\u001b[43mwrite\u001b[49m\u001b[43m(\u001b[49m\u001b[38;5;28;43mself\u001b[39;49m\u001b[38;5;241;43m.\u001b[39;49m\u001b[43mnamelist\u001b[49m\u001b[43m,\u001b[49m\u001b[43m \u001b[49m\u001b[43moutput_file\u001b[49m\u001b[43m,\u001b[49m\u001b[43m \u001b[49m\u001b[43mforce\u001b[49m\u001b[38;5;241;43m=\u001b[39;49m\u001b[43mforce\u001b[49m\u001b[43m)\u001b[49m\n\u001b[1;32m     84\u001b[0m     \u001b[38;5;28mprint\u001b[39m(\u001b[38;5;124mf\u001b[39m\u001b[38;5;124m\"\u001b[39m\u001b[38;5;124mNamelist saved to \u001b[39m\u001b[38;5;132;01m{\u001b[39;00moutput_file\u001b[38;5;132;01m}\u001b[39;00m\u001b[38;5;124m\"\u001b[39m)\n",
      "File \u001b[0;32m/glade/work/ahijevyc/conda-envs/cm1/lib/python3.12/site-packages/f90nml/__init__.py:82\u001b[0m, in \u001b[0;36mwrite\u001b[0;34m(nml, nml_path, force, sort)\u001b[0m\n\u001b[1;32m     79\u001b[0m \u001b[38;5;28;01melse\u001b[39;00m:\n\u001b[1;32m     80\u001b[0m     nml_in \u001b[38;5;241m=\u001b[39m nml\n\u001b[0;32m---> 82\u001b[0m \u001b[43mnml_in\u001b[49m\u001b[38;5;241;43m.\u001b[39;49m\u001b[43mwrite\u001b[49m\u001b[43m(\u001b[49m\u001b[43mnml_path\u001b[49m\u001b[43m,\u001b[49m\u001b[43m \u001b[49m\u001b[43mforce\u001b[49m\u001b[38;5;241;43m=\u001b[39;49m\u001b[43mforce\u001b[49m\u001b[43m,\u001b[49m\u001b[43m \u001b[49m\u001b[43msort\u001b[49m\u001b[38;5;241;43m=\u001b[39;49m\u001b[43msort\u001b[49m\u001b[43m)\u001b[49m\n",
      "File \u001b[0;32m/glade/work/ahijevyc/conda-envs/cm1/lib/python3.12/site-packages/f90nml/namelist.py:585\u001b[0m, in \u001b[0;36mNamelist.write\u001b[0;34m(self, nml_path, force, sort)\u001b[0m\n\u001b[1;32m    583\u001b[0m nml_is_file \u001b[38;5;241m=\u001b[39m \u001b[38;5;28mhasattr\u001b[39m(nml_path, \u001b[38;5;124m'\u001b[39m\u001b[38;5;124mread\u001b[39m\u001b[38;5;124m'\u001b[39m)\n\u001b[1;32m    584\u001b[0m \u001b[38;5;28;01mif\u001b[39;00m \u001b[38;5;129;01mnot\u001b[39;00m force \u001b[38;5;129;01mand\u001b[39;00m \u001b[38;5;129;01mnot\u001b[39;00m nml_is_file \u001b[38;5;129;01mand\u001b[39;00m os\u001b[38;5;241m.\u001b[39mpath\u001b[38;5;241m.\u001b[39misfile(nml_path):\n\u001b[0;32m--> 585\u001b[0m     \u001b[38;5;28;01mraise\u001b[39;00m \u001b[38;5;167;01mIOError\u001b[39;00m(\u001b[38;5;124m'\u001b[39m\u001b[38;5;124mFile \u001b[39m\u001b[38;5;132;01m{0}\u001b[39;00m\u001b[38;5;124m already exists.\u001b[39m\u001b[38;5;124m'\u001b[39m\u001b[38;5;241m.\u001b[39mformat(nml_path))\n\u001b[1;32m    587\u001b[0m nml_file \u001b[38;5;241m=\u001b[39m nml_path \u001b[38;5;28;01mif\u001b[39;00m nml_is_file \u001b[38;5;28;01melse\u001b[39;00m \u001b[38;5;28mopen\u001b[39m(nml_path, \u001b[38;5;124m'\u001b[39m\u001b[38;5;124mw\u001b[39m\u001b[38;5;124m'\u001b[39m)\n\u001b[1;32m    588\u001b[0m \u001b[38;5;28;01mtry\u001b[39;00m:\n",
      "\u001b[0;31mOSError\u001b[0m: File /glade/derecho/scratch/ahijevyc/tmp/updated_input.nml already exists."
     ]
    }
   ],
   "source": [
    "# Path to the CM1 repository\n",
    "CM1 = Path(os.getenv(\"SCRATCH\")) / \"cm1\"  # Assumes $SCRATCH is already set.\n",
    "\n",
    "# Initialize the controller with the path to the namelist file\n",
    "controller = cm1.run.util.FortranNamelistController(\n",
    "    CM1 / \"run/config_files/cpm_RadConvEquil/namelist.input\"\n",
    ")\n",
    "\n",
    "\n",
    "# Get a value from the namelist\n",
    "# Modify values in the namelist\n",
    "print(\"Initial value:\", controller.get_value(\"param9\", \"output_format\"))\n",
    "controller.set_value(\"param9\", \"output_format\", 2)\n",
    "print(\"Initial value:\", controller.get_value(\"param9\", \"output_filetype\"))\n",
    "controller.set_value(\"param9\", \"output_filetype\", 1)\n",
    "\n",
    "# Save the updated namelist\n",
    "ofile = TMPDIR / \"updated_input.nml\"\n",
    "controller.save(ofile, force=False)\n",
    "logging.info(f\"Updated namelist saved to {ofile}\")"
   ]
  },
  {
   "cell_type": "code",
   "execution_count": null,
   "metadata": {},
   "outputs": [],
   "source": []
  }
 ],
 "metadata": {
  "kernelspec": {
   "display_name": "cm1",
   "language": "python",
   "name": "python3"
  },
  "language_info": {
   "codemirror_mode": {
    "name": "ipython",
    "version": 3
   },
   "file_extension": ".py",
   "mimetype": "text/x-python",
   "name": "python",
   "nbconvert_exporter": "python",
   "pygments_lexer": "ipython3",
   "version": "3.12.7"
  }
 },
 "nbformat": 4,
 "nbformat_minor": 2
}
