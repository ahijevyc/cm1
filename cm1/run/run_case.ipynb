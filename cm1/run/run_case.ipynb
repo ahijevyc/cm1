{
 "cells": [
  {
   "cell_type": "code",
   "execution_count": 4,
   "metadata": {},
   "outputs": [],
   "source": [
    "import cm1.run.util\n",
    "import os\n",
    "from cm1.util import TMPDIR\n",
    "from pathlib import Path\n",
    "import logging"
   ]
  },
  {
   "cell_type": "code",
   "execution_count": 6,
   "metadata": {},
   "outputs": [
    {
     "name": "stdout",
     "output_type": "stream",
     "text": [
      "Initial value: 1\n",
      "Initial value: 2\n",
      "Namelist saved to /glade/derecho/scratch/ahijevyc/tmp/updated_input.nml\n"
     ]
    }
   ],
   "source": [
    "# Path to the CM1 repository\n",
    "CM1 = Path(os.getenv(\"SCRATCH\")) / \"cm1\"  # Assumes $SCRATCH is already set.\n",
    "\n",
    "# Initialize the controller with the path to the namelist file\n",
    "controller = cm1.run.util.FortranNamelistController(\n",
    "    CM1 / \"run/config_files/cpm_RadConvEquil/namelist.input\"\n",
    ")\n",
    "\n",
    "\n",
    "# Get a value from the namelist\n",
    "# Modify values in the namelist\n",
    "print(\"Initial value:\", controller.get_value(\"param9\", \"output_format\"))\n",
    "controller.set_value(\"param9\", \"output_format\", 2)\n",
    "print(\"Initial value:\", controller.get_value(\"param9\", \"output_filetype\"))\n",
    "controller.set_value(\"param9\", \"output_filetype\", 1)\n",
    "\n",
    "controller.set_value(\"param2\", \"isnd\", 7)\n",
    "\n",
    "# Save the updated namelist\n",
    "ofile = TMPDIR / \"updated_input.nml\"\n",
    "controller.save(ofile, force=True)\n",
    "logging.info(f\"Updated namelist saved to {ofile}\")"
   ]
  },
  {
   "cell_type": "code",
   "execution_count": null,
   "metadata": {},
   "outputs": [],
   "source": []
  }
 ],
 "metadata": {
  "kernelspec": {
   "display_name": "cm1",
   "language": "python",
   "name": "python3"
  },
  "language_info": {
   "codemirror_mode": {
    "name": "ipython",
    "version": 3
   },
   "file_extension": ".py",
   "mimetype": "text/x-python",
   "name": "python",
   "nbconvert_exporter": "python",
   "pygments_lexer": "ipython3",
   "version": "3.12.7"
  }
 },
 "nbformat": 4,
 "nbformat_minor": 2
}
